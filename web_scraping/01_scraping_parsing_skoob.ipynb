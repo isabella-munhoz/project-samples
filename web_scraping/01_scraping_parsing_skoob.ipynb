{
 "metadata": {
  "language_info": {
   "codemirror_mode": {
    "name": "ipython",
    "version": 3
   },
   "file_extension": ".py",
   "mimetype": "text/x-python",
   "name": "python",
   "nbconvert_exporter": "python",
   "pygments_lexer": "ipython3",
   "version": "3.8.5-final"
  },
  "orig_nbformat": 2,
  "kernelspec": {
   "name": "Python 3.8.5 64-bit",
   "display_name": "Python 3.8.5 64-bit",
   "metadata": {
    "interpreter": {
     "hash": "31f2aee4e71d21fbe5cf8b01ff0e069b9275f58929596ceb00d14d90e3e16cd6"
    }
   }
  }
 },
 "nbformat": 4,
 "nbformat_minor": 2,
 "cells": [
  {
   "cell_type": "code",
   "execution_count": 1,
   "metadata": {},
   "outputs": [],
   "source": [
    "import pandas as pd \n",
    "import time\n",
    "import json\n",
    "import requests as rq \n",
    "import bs4 as bs4"
   ]
  },
  {
   "cell_type": "code",
   "execution_count": 2,
   "metadata": {},
   "outputs": [],
   "source": [
    "publishers = {\"intrinseca\": 11, \"sextante\": 19, \"rocco\": 41}"
   ]
  },
  {
   "cell_type": "code",
   "execution_count": 3,
   "metadata": {},
   "outputs": [],
   "source": [
    "url = \"https://www.skoob.com.br/editora/livros/{publisher}/mpage:{page}\""
   ]
  },
  {
   "cell_type": "code",
   "execution_count": 4,
   "metadata": {},
   "outputs": [
    {
     "output_type": "stream",
     "name": "stdout",
     "text": [
      "https://www.skoob.com.br/editora/livros/11/mpage:1\nhttps://www.skoob.com.br/editora/livros/19/mpage:1\nhttps://www.skoob.com.br/editora/livros/41/mpage:1\n"
     ]
    }
   ],
   "source": [
    "# testando se o formato da url está certo\n",
    "\n",
    "for i in range(len(publishers)):\n",
    "    print(url.format(publisher=list(publishers.values())[i], page=\"1\"))"
   ]
  },
  {
   "cell_type": "code",
   "execution_count": 5,
   "metadata": {},
   "outputs": [
    {
     "output_type": "execute_result",
     "data": {
      "text/plain": [
       "'intrinseca'"
      ]
     },
     "metadata": {},
     "execution_count": 5
    }
   ],
   "source": [
    "# testando uso das chaves\n",
    "\n",
    "list(publishers.keys())[0]"
   ]
  },
  {
   "cell_type": "code",
   "execution_count": 6,
   "metadata": {},
   "outputs": [
    {
     "output_type": "execute_result",
     "data": {
      "text/plain": [
       "'./skoob/rocco_1.html'"
      ]
     },
     "metadata": {},
     "execution_count": 6
    }
   ],
   "source": [
    "# testando nome do arquivo\n",
    "\n",
    "\"./skoob/{q}_{p}.html\".format(q=list(publishers.keys())[i], p=1)"
   ]
  },
  {
   "cell_type": "code",
   "execution_count": 8,
   "metadata": {},
   "outputs": [
    {
     "output_type": "stream",
     "name": "stdout",
     "text": [
      "https://www.skoob.com.br/editora/livros/11/mpage:1\n",
      "https://www.skoob.com.br/editora/livros/11/mpage:2\n",
      "https://www.skoob.com.br/editora/livros/11/mpage:3\n",
      "https://www.skoob.com.br/editora/livros/11/mpage:4\n",
      "https://www.skoob.com.br/editora/livros/11/mpage:5\n",
      "https://www.skoob.com.br/editora/livros/11/mpage:6\n",
      "https://www.skoob.com.br/editora/livros/11/mpage:7\n",
      "https://www.skoob.com.br/editora/livros/11/mpage:8\n",
      "https://www.skoob.com.br/editora/livros/11/mpage:9\n",
      "https://www.skoob.com.br/editora/livros/11/mpage:10\n",
      "https://www.skoob.com.br/editora/livros/19/mpage:1\n",
      "https://www.skoob.com.br/editora/livros/19/mpage:2\n",
      "https://www.skoob.com.br/editora/livros/19/mpage:3\n",
      "https://www.skoob.com.br/editora/livros/19/mpage:4\n",
      "https://www.skoob.com.br/editora/livros/19/mpage:5\n",
      "https://www.skoob.com.br/editora/livros/19/mpage:6\n",
      "https://www.skoob.com.br/editora/livros/19/mpage:7\n",
      "https://www.skoob.com.br/editora/livros/19/mpage:8\n",
      "https://www.skoob.com.br/editora/livros/19/mpage:9\n",
      "https://www.skoob.com.br/editora/livros/19/mpage:10\n",
      "https://www.skoob.com.br/editora/livros/41/mpage:1\n",
      "https://www.skoob.com.br/editora/livros/41/mpage:2\n",
      "https://www.skoob.com.br/editora/livros/41/mpage:3\n",
      "https://www.skoob.com.br/editora/livros/41/mpage:4\n",
      "https://www.skoob.com.br/editora/livros/41/mpage:5\n",
      "https://www.skoob.com.br/editora/livros/41/mpage:6\n",
      "https://www.skoob.com.br/editora/livros/41/mpage:7\n",
      "https://www.skoob.com.br/editora/livros/41/mpage:8\n",
      "https://www.skoob.com.br/editora/livros/41/mpage:9\n",
      "https://www.skoob.com.br/editora/livros/41/mpage:10\n"
     ]
    }
   ],
   "source": [
    "for i in range(len(publishers)):\n",
    "    \n",
    "    for page in range(1,11):\n",
    "        \n",
    "        urll = url.format(publisher=list(publishers.values())[i], page=page)\n",
    "        print(urll)\n",
    "        response = rq.get(urll)\n",
    "        \n",
    "        with open(\"./skoob/{q}_{p}.html\".format(q=list(publishers.keys())[i], p=page), \"w+\", encoding=\"utf-8\") as output:\n",
    "            output.write(response.text)\n",
    "        time.sleep(2)"
   ]
  },
  {
   "cell_type": "code",
   "execution_count": 9,
   "metadata": {},
   "outputs": [],
   "source": [
    "for i in publishers:\n",
    "    \n",
    "    for page in range(1,11):\n",
    "        \n",
    "        with open (\"./skoob/{q}_{p}.html\".format(q=i, p=page), \"r+\") as inp:\n",
    "            \n",
    "            page_html = inp.read()\n",
    "            \n",
    "            page_parsed = bs4.BeautifulSoup(page_html) #page_parsed é um objeto do bs4\n",
    "            \n",
    "            books = page_parsed.findAll(\"div\", {\"class\": \"box_livro\"}) #books é um objeto \"ResultSet\" do bs4\n",
    "            \n",
    "            for j in range(0, 40):\n",
    "                book_link = books[j].find(\"a\").get(\"href\")\n",
    "                book_title = books[j].find(\"a\").get(\"title\")\n",
    "                \n",
    "                with open (\"parsed_videos.json\", \"a+\") as output:\n",
    "                    data = {\"title\": book_title, \"link\": book_link, \"query\": i}\n",
    "                    output.write(\"{}\\n\".format(json.dumps(data)))"
   ]
  },
  {
   "cell_type": "markdown",
   "metadata": {},
   "source": [
    "Lendo o arquivo criado"
   ]
  },
  {
   "cell_type": "code",
   "execution_count": 10,
   "metadata": {},
   "outputs": [],
   "source": [
    "df = pd.read_json(\"parsed_videos.json\", lines=True)"
   ]
  },
  {
   "cell_type": "code",
   "execution_count": 11,
   "metadata": {},
   "outputs": [
    {
     "output_type": "execute_result",
     "data": {
      "text/plain": [
       "                              title  \\\n",
       "0              Orçamento sem falhas   \n",
       "1             Minha Sombria Vanessa   \n",
       "2                          Recursão   \n",
       "3              M, o Filho do Século   \n",
       "4  Oblivion Song: Entre Dois Mundos   \n",
       "\n",
       "                                                link       query  \n",
       "0      /orcamento-sem-falhas-11677985ed11693528.html  intrinseca  \n",
       "1       /minha-sombria-vanessa-1022974ed1025216.html  intrinseca  \n",
       "2                     /recursao-980390ed1030802.html  intrinseca  \n",
       "3         /m-o-filho-do-seculo-1028489ed1030829.html  intrinseca  \n",
       "4  /oblivion-song-entre-dois-mundos-1030237ed1032...  intrinseca  "
      ],
      "text/html": "<div>\n<style scoped>\n    .dataframe tbody tr th:only-of-type {\n        vertical-align: middle;\n    }\n\n    .dataframe tbody tr th {\n        vertical-align: top;\n    }\n\n    .dataframe thead th {\n        text-align: right;\n    }\n</style>\n<table border=\"1\" class=\"dataframe\">\n  <thead>\n    <tr style=\"text-align: right;\">\n      <th></th>\n      <th>title</th>\n      <th>link</th>\n      <th>query</th>\n    </tr>\n  </thead>\n  <tbody>\n    <tr>\n      <th>0</th>\n      <td>Orçamento sem falhas</td>\n      <td>/orcamento-sem-falhas-11677985ed11693528.html</td>\n      <td>intrinseca</td>\n    </tr>\n    <tr>\n      <th>1</th>\n      <td>Minha Sombria Vanessa</td>\n      <td>/minha-sombria-vanessa-1022974ed1025216.html</td>\n      <td>intrinseca</td>\n    </tr>\n    <tr>\n      <th>2</th>\n      <td>Recursão</td>\n      <td>/recursao-980390ed1030802.html</td>\n      <td>intrinseca</td>\n    </tr>\n    <tr>\n      <th>3</th>\n      <td>M, o Filho do Século</td>\n      <td>/m-o-filho-do-seculo-1028489ed1030829.html</td>\n      <td>intrinseca</td>\n    </tr>\n    <tr>\n      <th>4</th>\n      <td>Oblivion Song: Entre Dois Mundos</td>\n      <td>/oblivion-song-entre-dois-mundos-1030237ed1032...</td>\n      <td>intrinseca</td>\n    </tr>\n  </tbody>\n</table>\n</div>"
     },
     "metadata": {},
     "execution_count": 11
    }
   ],
   "source": [
    "df.head()"
   ]
  },
  {
   "cell_type": "code",
   "execution_count": 12,
   "metadata": {},
   "outputs": [
    {
     "output_type": "execute_result",
     "data": {
      "text/plain": [
       "'/luigi\\x92s-635715ed637238.html'"
      ]
     },
     "metadata": {},
     "execution_count": 12
    }
   ],
   "source": [
    "df.iloc[605][\"link\"]"
   ]
  },
  {
   "cell_type": "code",
   "execution_count": null,
   "metadata": {},
   "outputs": [],
   "source": []
  }
 ]
}