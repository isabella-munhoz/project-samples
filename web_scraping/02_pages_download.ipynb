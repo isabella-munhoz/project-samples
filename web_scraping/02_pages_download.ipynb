{
 "metadata": {
  "language_info": {
   "codemirror_mode": {
    "name": "ipython",
    "version": 3
   },
   "file_extension": ".py",
   "mimetype": "text/x-python",
   "name": "python",
   "nbconvert_exporter": "python",
   "pygments_lexer": "ipython3",
   "version": "3.8.5-final"
  },
  "orig_nbformat": 2,
  "kernelspec": {
   "name": "python3",
   "display_name": "Python 3.8.5 64-bit",
   "metadata": {
    "interpreter": {
     "hash": "31f2aee4e71d21fbe5cf8b01ff0e069b9275f58929596ceb00d14d90e3e16cd6"
    }
   }
  }
 },
 "nbformat": 4,
 "nbformat_minor": 2,
 "cells": [
  {
   "cell_type": "code",
   "execution_count": 1,
   "metadata": {},
   "outputs": [],
   "source": [
    "import numpy as np \n",
    "import pandas as pd\n",
    "import re\n",
    "import time\n",
    "\n",
    "import requests as rq \n",
    "import bs4 as bs4\n",
    "import tqdm\n",
    "import glob\n",
    "import json"
   ]
  },
  {
   "cell_type": "code",
   "execution_count": 2,
   "metadata": {},
   "outputs": [],
   "source": [
    "df = pd.read_json(\"parsed_videos.json\", lines=True)"
   ]
  },
  {
   "cell_type": "code",
   "execution_count": 3,
   "metadata": {},
   "outputs": [
    {
     "output_type": "execute_result",
     "data": {
      "text/plain": [
       "                                 title  \\\n",
       "0                 Orçamento sem falhas   \n",
       "1                Minha Sombria Vanessa   \n",
       "2                             Recursão   \n",
       "3                 M, o Filho do Século   \n",
       "4     Oblivion Song: Entre Dois Mundos   \n",
       "...                                ...   \n",
       "1195                    O jogo de Sade   \n",
       "1196                   Brasileirismos    \n",
       "1197                Desperdiçando Rima   \n",
       "1198                       Arrasadoras   \n",
       "1199          A porta dos três trincos   \n",
       "\n",
       "                                                   link       query  \n",
       "0         /orcamento-sem-falhas-11677985ed11693528.html  intrinseca  \n",
       "1          /minha-sombria-vanessa-1022974ed1025216.html  intrinseca  \n",
       "2                        /recursao-980390ed1030802.html  intrinseca  \n",
       "3            /m-o-filho-do-seculo-1028489ed1030829.html  intrinseca  \n",
       "4     /oblivion-song-entre-dois-mundos-1030237ed1032...  intrinseca  \n",
       "...                                                 ...         ...  \n",
       "1195                /o-jogo-de-sade-442642ed501555.html       rocco  \n",
       "1196                /brasileirismos-442644ed501557.html       rocco  \n",
       "1197            /desperdicando-rima-442647ed501560.html       rocco  \n",
       "1198                   /arrasadoras-442654ed501567.html       rocco  \n",
       "1199      /a-porta-dos-tres-trincos-442655ed501568.html       rocco  \n",
       "\n",
       "[1200 rows x 3 columns]"
      ],
      "text/html": "<div>\n<style scoped>\n    .dataframe tbody tr th:only-of-type {\n        vertical-align: middle;\n    }\n\n    .dataframe tbody tr th {\n        vertical-align: top;\n    }\n\n    .dataframe thead th {\n        text-align: right;\n    }\n</style>\n<table border=\"1\" class=\"dataframe\">\n  <thead>\n    <tr style=\"text-align: right;\">\n      <th></th>\n      <th>title</th>\n      <th>link</th>\n      <th>query</th>\n    </tr>\n  </thead>\n  <tbody>\n    <tr>\n      <th>0</th>\n      <td>Orçamento sem falhas</td>\n      <td>/orcamento-sem-falhas-11677985ed11693528.html</td>\n      <td>intrinseca</td>\n    </tr>\n    <tr>\n      <th>1</th>\n      <td>Minha Sombria Vanessa</td>\n      <td>/minha-sombria-vanessa-1022974ed1025216.html</td>\n      <td>intrinseca</td>\n    </tr>\n    <tr>\n      <th>2</th>\n      <td>Recursão</td>\n      <td>/recursao-980390ed1030802.html</td>\n      <td>intrinseca</td>\n    </tr>\n    <tr>\n      <th>3</th>\n      <td>M, o Filho do Século</td>\n      <td>/m-o-filho-do-seculo-1028489ed1030829.html</td>\n      <td>intrinseca</td>\n    </tr>\n    <tr>\n      <th>4</th>\n      <td>Oblivion Song: Entre Dois Mundos</td>\n      <td>/oblivion-song-entre-dois-mundos-1030237ed1032...</td>\n      <td>intrinseca</td>\n    </tr>\n    <tr>\n      <th>...</th>\n      <td>...</td>\n      <td>...</td>\n      <td>...</td>\n    </tr>\n    <tr>\n      <th>1195</th>\n      <td>O jogo de Sade</td>\n      <td>/o-jogo-de-sade-442642ed501555.html</td>\n      <td>rocco</td>\n    </tr>\n    <tr>\n      <th>1196</th>\n      <td>Brasileirismos</td>\n      <td>/brasileirismos-442644ed501557.html</td>\n      <td>rocco</td>\n    </tr>\n    <tr>\n      <th>1197</th>\n      <td>Desperdiçando Rima</td>\n      <td>/desperdicando-rima-442647ed501560.html</td>\n      <td>rocco</td>\n    </tr>\n    <tr>\n      <th>1198</th>\n      <td>Arrasadoras</td>\n      <td>/arrasadoras-442654ed501567.html</td>\n      <td>rocco</td>\n    </tr>\n    <tr>\n      <th>1199</th>\n      <td>A porta dos três trincos</td>\n      <td>/a-porta-dos-tres-trincos-442655ed501568.html</td>\n      <td>rocco</td>\n    </tr>\n  </tbody>\n</table>\n<p>1200 rows × 3 columns</p>\n</div>"
     },
     "metadata": {},
     "execution_count": 3
    }
   ],
   "source": [
    "df"
   ]
  },
  {
   "cell_type": "code",
   "execution_count": 4,
   "metadata": {},
   "outputs": [
    {
     "output_type": "stream",
     "name": "stdout",
     "text": [
      "1078\n1200\n"
     ]
    }
   ],
   "source": [
    "print(len(df[\"title\"].unique()))\n",
    "print(len(df[\"link\"].unique()))"
   ]
  },
  {
   "cell_type": "code",
   "execution_count": 6,
   "metadata": {},
   "outputs": [
    {
     "output_type": "execute_result",
     "data": {
      "text/plain": [
       "0"
      ]
     },
     "metadata": {},
     "execution_count": 6
    }
   ],
   "source": [
    "df.duplicated().sum()"
   ]
  },
  {
   "cell_type": "code",
   "execution_count": 7,
   "metadata": {},
   "outputs": [
    {
     "output_type": "execute_result",
     "data": {
      "text/plain": [
       "122"
      ]
     },
     "metadata": {},
     "execution_count": 7
    }
   ],
   "source": [
    "df.duplicated(subset=[\"title\"]).sum()"
   ]
  },
  {
   "cell_type": "code",
   "execution_count": 8,
   "metadata": {},
   "outputs": [
    {
     "output_type": "execute_result",
     "data": {
      "text/plain": [
       "0"
      ]
     },
     "metadata": {},
     "execution_count": 8
    }
   ],
   "source": [
    "df.duplicated(subset=[\"link\"]).sum()"
   ]
  },
  {
   "cell_type": "markdown",
   "metadata": {},
   "source": [
    "## Coletando as páginas de cada livro"
   ]
  },
  {
   "cell_type": "code",
   "execution_count": 5,
   "metadata": {},
   "outputs": [],
   "source": [
    "url = \"https://www.skoob.com.br{link}\""
   ]
  },
  {
   "cell_type": "code",
   "execution_count": 6,
   "metadata": {},
   "outputs": [],
   "source": [
    "lista_links = df[\"link\"]"
   ]
  },
  {
   "cell_type": "code",
   "execution_count": 7,
   "metadata": {
    "tags": [
     "outputPrepend"
    ]
   },
   "outputs": [
    {
     "output_type": "stream",
     "name": "stdout",
     "text": [
      "ulwe-973249ed974342.html\n",
      "https://www.skoob.com.br/acabem-com-a-ivy-pocket-973252ed974345.html\n",
      "https://www.skoob.com.br/o-pequeno-principe-693ed983997.html\n",
      "https://www.skoob.com.br/grandes-dias-e-outras-historias-982698ed984001.html\n",
      "https://www.skoob.com.br/os-testamentos-982995ed984311.html\n",
      "https://www.skoob.com.br/corpos-ocultos-996729ed998372.html\n",
      "https://www.skoob.com.br/rebel-996742ed998386.html\n",
      "https://www.skoob.com.br/biblioteca-sobre-rodas-997218ed998864.html\n",
      "https://www.skoob.com.br/perto-do-coracao-selvagem-1494ed1002285.html\n",
      "https://www.skoob.com.br/a-cidade-sitiada-5663ed1002288.html\n",
      "https://www.skoob.com.br/o-lustre-5666ed1002290.html\n",
      "https://www.skoob.com.br/as-aventuras-do-tempo-1007147ed1009017.html\n",
      "https://www.skoob.com.br/deixe-a-neve-cair-348260ed1009666.html\n",
      "https://www.skoob.com.br/cabala-e-a-arte-do-tratamento-da-cura-1016213ed1018298.html\n",
      "https://www.skoob.com.br/o-mito-da-beleza-4907ed6007.html\n",
      "https://www.skoob.com.br/99-dias-1-complicado-amor-de-verao-679213ed681459.html\n",
      "https://www.skoob.com.br/um-ano-solitario-679216ed681462.html\n",
      "https://www.skoob.com.br/amantes-modernos-737476ed740042.html\n",
      "https://www.skoob.com.br/estamos-todos-completamente-transtornados-737480ed740046.html\n",
      "https://www.skoob.com.br/noticias-em-tres-linhas-737614ed740186.html\n",
      "https://www.skoob.com.br/isabel-de-castela-739632ed742295.html\n",
      "https://www.skoob.com.br/blimundo-740276ed742972.html\n",
      "https://www.skoob.com.br/uma-boa-corrida-748977ed752113.html\n",
      "https://www.skoob.com.br/uma-boa-corrida-748977ed752119.html\n",
      "https://www.skoob.com.br/a-viajante-o-passado-e-implacavel-748986ed752123.html\n",
      "https://www.skoob.com.br/voce-748991ed752128.html\n",
      "https://www.skoob.com.br/o-exame-final-748999ed752136.html\n",
      "https://www.skoob.com.br/zilda-arns-755857ed759296.html\n",
      "https://www.skoob.com.br/1004-758041ed761587.html\n",
      "https://www.skoob.com.br/principe-lestat-e-os-reinos-de-atlantida-758046ed761593.html\n",
      "https://www.skoob.com.br/o-milesimo-andar-758048ed761595.html\n",
      "https://www.skoob.com.br/it-girl-758050ed761597.html\n",
      "https://www.skoob.com.br/o-que-restou-758055ed761602.html\n",
      "https://www.skoob.com.br/sem-coracao-758122ed761672.html\n",
      "https://www.skoob.com.br/o-14-peixinho-dourado-759044ed762651.html\n",
      "https://www.skoob.com.br/a-mente-influente-761387ed765094.html\n",
      "https://www.skoob.com.br/harry-potter-e-o-prisioneiro-de-azkaban-358ed766614.html\n",
      "https://www.skoob.com.br/os-hospedes-764677ed768541.html\n",
      "https://www.skoob.com.br/avenida-dos-misterios-764679ed768543.html\n",
      "https://www.skoob.com.br/uma-certa-crueldade-764681ed768545.html\n",
      "https://www.skoob.com.br/sangue-infernal-764686ed768550.html\n",
      "https://www.skoob.com.br/o-fim-do-mundo-e-aqui-764689ed768553.html\n",
      "https://www.skoob.com.br/sandman-e-a-guerra-dos-sonhos-764691ed768555.html\n",
      "https://www.skoob.com.br/correio-para-mulheres-772349ed776682.html\n",
      "https://www.skoob.com.br/alma-e-politica-772551ed776907.html\n",
      "https://www.skoob.com.br/estrategias-de-lideranca-de-confucio-775948ed780465.html\n",
      "https://www.skoob.com.br/a-unica-historia-780246ed784987.html\n",
      "https://www.skoob.com.br/o-carcereiro-789871ed792997.html\n",
      "https://www.skoob.com.br/confissoes-de-uma-garota-desastrada-793053ed796350.html\n",
      "https://www.skoob.com.br/o-que-sabe-o-coracao-793054ed796351.html\n",
      "https://www.skoob.com.br/todas-as-cronicas-793192ed796492.html\n",
      "https://www.skoob.com.br/a-guerra-de-ashley-793746ed797101.html\n",
      "https://www.skoob.com.br/oryx-e-crake-83312ed798309.html\n",
      "https://www.skoob.com.br/a-menina-da-montanha-802783ed806608.html\n",
      "https://www.skoob.com.br/o-artista-da-faca-e-book-803624ed807542.html\n",
      "https://www.skoob.com.br/o-artista-da-faca-803624ed808045.html\n",
      "https://www.skoob.com.br/tudo-que-voce-quiser-que-eu-seja-803360ed808050.html\n",
      "https://www.skoob.com.br/parem-a-ivy-pocket-804534ed808518.html\n",
      "https://www.skoob.com.br/mulheres-que-correm-com-os-lobos-5474ed810816.html\n",
      "https://www.skoob.com.br/tres-amigas-no-ritmo-do-blues-806656ed810820.html\n",
      "https://www.skoob.com.br/o-galo-gago-806665ed810829.html\n",
      "https://www.skoob.com.br/desafiando-as-estrelas-817709ed822097.html\n",
      "https://www.skoob.com.br/tudo-por-um-pop-star-1510ed822103.html\n",
      "https://www.skoob.com.br/meus-15-anos-397522ed450146.html\n",
      "https://www.skoob.com.br/crave-a-marca-632079ed633399.html\n",
      "https://www.skoob.com.br/o-clube-de-leitura-de-jane-austen-633702ed635113.html\n",
      "https://www.skoob.com.br/tom-jones-15290ed640332.html\n",
      "https://www.skoob.com.br/fic-638708ed640340.html\n",
      "https://www.skoob.com.br/sangue-inocente-539407ed641697.html\n",
      "https://www.skoob.com.br/dicas-da-imensidao-640549ed642280.html\n",
      "https://www.skoob.com.br/diario-de-um-corpo-640732ed642471.html\n",
      "https://www.skoob.com.br/a-viagem-de-rousseau-640757ed642499.html\n",
      "https://www.skoob.com.br/a-caminho-do-azul-sereno-647774ed649787.html\n",
      "https://www.skoob.com.br/melhores-amigas-647779ed649793.html\n",
      "https://www.skoob.com.br/vinganca-647783ed649797.html\n",
      "https://www.skoob.com.br/o-canto-dos-segredos-649517ed649804.html\n",
      "https://www.skoob.com.br/o-verao-em-que-salvei-o-mundo-em-65-dias-647795ed649809.html\n",
      "https://www.skoob.com.br/a-roda-da-eternidade-647801ed649815.html\n",
      "https://www.skoob.com.br/o-ruido-do-tempo-647868ed649882.html\n",
      "https://www.skoob.com.br/inesquecivel-648051ed650074.html\n",
      "https://www.skoob.com.br/leitura-do-texto-leitura-do-mundo-648375ed650415.html\n",
      "https://www.skoob.com.br/harry-potter-e-a-camara-secreta-357ed656760.html\n",
      "https://www.skoob.com.br/terceira-voz-657385ed659413.html\n",
      "https://www.skoob.com.br/a-casa-no-lago-657402ed659431.html\n",
      "https://www.skoob.com.br/a-magia-da-raposa-657452ed659483.html\n",
      "https://www.skoob.com.br/a-espada-dos-rebeldes-657453ed659484.html\n",
      "https://www.skoob.com.br/tudo-e-perigoso-657456ed659487.html\n",
      "https://www.skoob.com.br/a-nova-ordem-659695ed661803.html\n",
      "https://www.skoob.com.br/o-abandono-da-fe-659700ed661807.html\n",
      "https://www.skoob.com.br/questao-vital-660584ed662720.html\n",
      "https://www.skoob.com.br/a-maquina-performatica-660595ed662731.html\n",
      "https://www.skoob.com.br/a-estrela-da-meia-noite-662088ed664313.html\n",
      "https://www.skoob.com.br/animais-fantasticos-e-onde-habitam-662675ed664913.html\n",
      "https://www.skoob.com.br/quando-tudo-faz-sentido-665712ed667354.html\n",
      "https://www.skoob.com.br/supergirl-na-super-hero-high-665822ed667464.html\n",
      "https://www.skoob.com.br/eu-e-voce-de-a-a-z-665824ed667466.html\n",
      "https://www.skoob.com.br/a-aventura-do-estilo-666582ed668282.html\n",
      "https://www.skoob.com.br/fergus-voador-666927ed668633.html\n",
      "https://www.skoob.com.br/a-vinganca-dos-analogicos-666931ed668637.html\n",
      "https://www.skoob.com.br/fila-e-democracia-666935ed668641.html\n",
      "https://www.skoob.com.br/a-licao-de-anatomia-666936ed668642.html\n",
      "https://www.skoob.com.br/a-cor-de-coraline-667314ed669041.html\n",
      "https://www.skoob.com.br/os-guardioes-de-sangue-668853ed670661.html\n",
      "https://www.skoob.com.br/levana-668857ed670666.html\n",
      "https://www.skoob.com.br/o-garoto-da-loteria-671159ed673056.html\n",
      "https://www.skoob.com.br/animais-fantasticos-e-onde-habitam-639ed674754.html\n",
      "https://www.skoob.com.br/quadribol-atraves-dos-seculos-640ed674755.html\n",
      "https://www.skoob.com.br/box-biblioteca-hogwarts-672776ed674756.html\n",
      "https://www.skoob.com.br/os-contos-de-beedle-o-bardo-137ed674842.html\n",
      "https://www.skoob.com.br/a-hora-da-estrela-183ed674878.html\n",
      "https://www.skoob.com.br/a-guerra-do-rock-673486ed675501.html\n",
      "https://www.skoob.com.br/aqui-estou-673542ed675560.html\n",
      "https://www.skoob.com.br/um-romance-perigoso-673548ed675566.html\n",
      "https://www.skoob.com.br/a-arte-da-criatividade-673587ed675605.html\n",
      "https://www.skoob.com.br/ivy-pocket-e-o-segredo-do-diamante-673805ed675838.html\n",
      "https://www.skoob.com.br/garotos-de-lugar-nenhum-679220ed681467.html\n",
      "https://www.skoob.com.br/jane-austen-roubou-meu-namorado-680959ed683294.html\n",
      "https://www.skoob.com.br/querida-filha-680963ed683298.html\n",
      "https://www.skoob.com.br/o-caminho-de-casa-680965ed683300.html\n",
      "https://www.skoob.com.br/comportamento-altamente-ilogico-680991ed683326.html\n",
      "https://www.skoob.com.br/os-fantasmas-681002ed683338.html\n",
      "https://www.skoob.com.br/peixe-fora-dagua-681595ed683942.html\n",
      "https://www.skoob.com.br/archie-greene-e-o-segredo-dos-magos-681597ed683944.html\n",
      "https://www.skoob.com.br/o-primeiro-dia-de-chu-na-escola-681686ed684113.html\n",
      "https://www.skoob.com.br/o-conto-da-aia-8256ed684953.html\n",
      "https://www.skoob.com.br/a-perda-de-si-681359ed688776.html\n",
      "https://www.skoob.com.br/lembra-aquela-vez-689059ed691823.html\n",
      "https://www.skoob.com.br/as-perfeccionistas-689062ed691826.html\n",
      "https://www.skoob.com.br/os-saqueadores-689559ed692377.html\n",
      "https://www.skoob.com.br/tercas-a-noite-em-1980-689050ed692500.html\n",
      "https://www.skoob.com.br/a-cidade-solitaria-689049ed692506.html\n",
      "https://www.skoob.com.br/to-frito-690331ed693203.html\n",
      "https://www.skoob.com.br/harry-potter-guia-cinematografico-693941ed697023.html\n",
      "https://www.skoob.com.br/rony-weasly-guia-cinematografico-693943ed697026.html\n",
      "https://www.skoob.com.br/hermione-granger-guia-cinematografico-693944ed697027.html\n",
      "https://www.skoob.com.br/alvo-dumbledore-guia-cinematografico-693946ed697029.html\n",
      "https://www.skoob.com.br/o-design-da-sua-vida-694648ed697846.html\n",
      "https://www.skoob.com.br/o-reino-da-fala-694889ed698103.html\n",
      "https://www.skoob.com.br/o-segredo-dos-goblins-694961ed698178.html\n",
      "https://www.skoob.com.br/harry-potter-e-a-pedra-filosofal-108ed698255.html\n",
      "https://www.skoob.com.br/harry-potter-e-a-camara-secreta-357ed698269.html\n",
      "https://www.skoob.com.br/harry-potter-e-o-calice-de-fogo-355ed698274.html\n",
      "https://www.skoob.com.br/harry-potter-e-a-ordem-da-fenix-359ed698277.html\n",
      "https://www.skoob.com.br/harry-potter-e-o-enigma-do-principe-562ed698282.html\n",
      "https://www.skoob.com.br/harry-potter-e-as-reliquias-da-morte-1200ed698286.html\n",
      "https://www.skoob.com.br/harry-potter-e-a-pedra-filosofal-108ed698547.html\n",
      "https://www.skoob.com.br/harry-potter-e-a-camara-secreta-357ed698551.html\n",
      "https://www.skoob.com.br/harry-potter-e-o-prisioneiro-de-azkaban-695309ed698553.html\n",
      "https://www.skoob.com.br/harry-potter-e-o-calice-de-fogo-695311ed698555.html\n",
      "https://www.skoob.com.br/harry-potter-e-a-ordem-da-fenix-359ed698557.html\n",
      "https://www.skoob.com.br/harry-potter-e-o-enigma-do-principe-695315ed698560.html\n",
      "https://www.skoob.com.br/harry-potter-e-as-reliquias-da-morte-695317ed698562.html\n",
      "https://www.skoob.com.br/harry-potter-e-as-reliquias-da-morte-1200ed698876.html\n",
      "https://www.skoob.com.br/harry-potter-e-o-calice-de-fogo-355ed698879.html\n",
      "https://www.skoob.com.br/harry-potter-e-o-prisioneiro-de-azkaban-358ed698888.html\n",
      "https://www.skoob.com.br/harry-potter-e-a-camara-secreta-357ed699881.html\n",
      "https://www.skoob.com.br/harry-potter-e-o-prisioneiro-de-azkaban-358ed699886.html\n",
      "https://www.skoob.com.br/harry-potter-e-a-ordem-da-fenix-359ed699904.html\n",
      "https://www.skoob.com.br/harry-potter-e-o-enigma-do-principe-562ed699908.html\n",
      "https://www.skoob.com.br/o-misterio-da-estrela-stardust-679ed700228.html\n",
      "https://www.skoob.com.br/quatro-soldados-698937ed702317.html\n",
      "https://www.skoob.com.br/treze-meses-dentro-da-tv-698940ed702320.html\n",
      "https://www.skoob.com.br/uma-esperanca-mais-forte-que-o-mar-705733ed706817.html\n",
      "https://www.skoob.com.br/gostar-de-ostras-705740ed706824.html\n",
      "https://www.skoob.com.br/cerebro-705746ed706830.html\n",
      "https://www.skoob.com.br/vulgo-grace-24473ed708380.html\n",
      "https://www.skoob.com.br/vidas-muito-boas-713218ed714720.html\n",
      "https://www.skoob.com.br/a-ascensao-do-mal-715298ed716902.html\n",
      "https://www.skoob.com.br/a-delacao-715306ed716910.html\n",
      "https://www.skoob.com.br/os-romanov-o-fim-da-dinastia-715309ed716913.html\n",
      "https://www.skoob.com.br/underground-airlines-715311ed716915.html\n",
      "https://www.skoob.com.br/a-vida-e-um-escandalo-717050ed718735.html\n",
      "https://www.skoob.com.br/coraline-graphic-novel--o-livro-do-cemiterio-717655ed719392.html\n",
      "https://www.skoob.com.br/ola-caderno-722007ed723911.html\n",
      "https://www.skoob.com.br/animais-fantasticos-e-onde-habitam-722016ed723920.html\n",
      "https://www.skoob.com.br/a-mulher-na-cabine-10-722469ed724387.html\n",
      "https://www.skoob.com.br/o-terror-722472ed724390.html\n",
      "https://www.skoob.com.br/o-livro-do-cemiterio-101187ed724467.html\n",
      "https://www.skoob.com.br/fala-serio-mae-1021ed724470.html\n",
      "https://www.skoob.com.br/batgirl-na-super-hero-high-724351ed726364.html\n",
      "https://www.skoob.com.br/serpentes-de-thor-725485ed727521.html\n",
      "https://www.skoob.com.br/gog-magog-726993ed729065.html\n",
      "https://www.skoob.com.br/mostre-seu-trabalho-726995ed729067.html\n",
      "https://www.skoob.com.br/serpente-de-thor-726999ed729071.html\n",
      "https://www.skoob.com.br/vulgo-grace-727415ed729507.html\n",
      "https://www.skoob.com.br/dicas-da-imensidao-727416ed729508.html\n",
      "https://www.skoob.com.br/o-gabinete-paralelo-728379ed730548.html\n",
      "https://www.skoob.com.br/a-paixao-segundo-gh-1278ed758028.html\n",
      "https://www.skoob.com.br/agua-viva-3501ed758029.html\n",
      "https://www.skoob.com.br/uma-aprendizagem-ou-o-livro-dos-prazeres-1746ed758031.html\n",
      "https://www.skoob.com.br/felicidade-clandestina-927ed758032.html\n",
      "https://www.skoob.com.br/os-contos-de-beedle-o-bardo-137ed1110203.html\n",
      "https://www.skoob.com.br/quadribol-atraves-dos-seculos-640ed1110208.html\n",
      "https://www.skoob.com.br/juro-pela-minha-vida-538432ed547661.html\n",
      "https://www.skoob.com.br/missao-justica-538433ed547662.html\n",
      "https://www.skoob.com.br/o-tumulo-da-borboleta-538723ed547962.html\n",
      "https://www.skoob.com.br/nanook-538724ed547963.html\n",
      "https://www.skoob.com.br/jovens-de-elite-540056ed549394.html\n",
      "https://www.skoob.com.br/pela-noite-eterna-542025ed551540.html\n",
      "https://www.skoob.com.br/filho-de-spartacus-542365ed551899.html\n",
      "https://www.skoob.com.br/timmy-fiasco-542367ed551900.html\n",
      "https://www.skoob.com.br/a-clepsidra-de-aldibah-542368ed551901.html\n",
      "https://www.skoob.com.br/cidade-dos-ultimos-dias-545993ed555896.html\n",
      "https://www.skoob.com.br/hotelles-546549ed556523.html\n",
      "https://www.skoob.com.br/a-eternidade-pelos-astros-547175ed557214.html\n",
      "https://www.skoob.com.br/romantize-seus-negocios-561013ed562719.html\n",
      "https://www.skoob.com.br/a-instrucao-da-noite-561015ed562721.html\n",
      "https://www.skoob.com.br/viagem-ao-redor-da-garrafa-561036ed562735.html\n",
      "https://www.skoob.com.br/meu-coracao-e-outros-buracos-negros-568160ed570240.html\n",
      "https://www.skoob.com.br/eu-digo-sim-568750ed570915.html\n",
      "https://www.skoob.com.br/abaixo-do-paraiso-568752ed570918.html\n",
      "https://www.skoob.com.br/o-ovo-da-barba-azul-568753ed570919.html\n",
      "https://www.skoob.com.br/formas-comuns-568754ed570920.html\n",
      "https://www.skoob.com.br/as-aventuras-de-jaja-568759ed570929.html\n",
      "https://www.skoob.com.br/venenosas-575909ed576899.html\n",
      "https://www.skoob.com.br/felizmente-o-leite-576041ed577036.html\n",
      "https://www.skoob.com.br/a-improvavel-teoria-de-ana-e-zak-576045ed577040.html\n",
      "https://www.skoob.com.br/vocacao-para-o-mal-576254ed577276.html\n",
      "https://www.skoob.com.br/vocacao-para-o-mal-576254ed577278.html\n",
      "https://www.skoob.com.br/o-vies-otimista-576256ed577279.html\n",
      "https://www.skoob.com.br/a-sinagoga-dos-iconoclastas-576258ed577281.html\n",
      "https://www.skoob.com.br/prosas-apatridas-576261ed577285.html\n",
      "https://www.skoob.com.br/clarice-lispector-todos-os-contos-578277ed579508.html\n",
      "https://www.skoob.com.br/dorothy-tem-que-morrer-580882ed582233.html\n",
      "https://www.skoob.com.br/harry-potter-e-a-pedra-filosofal-108ed583988.html\n",
      "https://www.skoob.com.br/o-livro-de-receitas-de-eva-thorvald-582574ed584119.html\n",
      "https://www.skoob.com.br/fergus-voador-582576ed584121.html\n",
      "https://www.skoob.com.br/o-tempo-nao-para-584764ed586437.html\n",
      "https://www.skoob.com.br/corvos-de-odin-585327ed587079.html\n",
      "https://www.skoob.com.br/a-vida-sexual-das-gemeas-siamesas-589012ed589879.html\n",
      "https://www.skoob.com.br/trainspotting-5276ed590660.html\n",
      "https://www.skoob.com.br/um-nazista-em-copacabana-589838ed590777.html\n",
      "https://www.skoob.com.br/helio-oiticica-a-asa-branca-do-extase-589840ed590779.html\n",
      "https://www.skoob.com.br/uma-cancao-pra-voce-589869ed590808.html\n",
      "https://www.skoob.com.br/porno-1933ed592108.html\n",
      "https://www.skoob.com.br/uma-garota-de-muita-sorte-593978ed595187.html\n",
      "https://www.skoob.com.br/sete-minutos-no-paraiso-594185ed595417.html\n",
      "https://www.skoob.com.br/dono-do-proprio-nariz-594915ed596208.html\n",
      "https://www.skoob.com.br/tentativas-de-capturar-o-ar-594916ed596209.html\n",
      "https://www.skoob.com.br/herois-urbanos-594954ed596246.html\n",
      "https://www.skoob.com.br/fergus-voador-594956ed596248.html\n",
      "https://www.skoob.com.br/a-outra-casa-598396ed599979.html\n",
      "https://www.skoob.com.br/os-veranistas-598719ed600310.html\n",
      "https://www.skoob.com.br/crueis-599108ed600713.html\n",
      "https://www.skoob.com.br/o-retrato-de-dorian-gray-601300ed601437.html\n",
      "https://www.skoob.com.br/harry-potter-e-a-crianca-amaldicoada-capa-dura-601538ed601697.html\n",
      "https://www.skoob.com.br/heranca-602837ed603063.html\n",
      "https://www.skoob.com.br/o-reino-da-bela-602839ed603066.html\n",
      "https://www.skoob.com.br/winter-608892ed609150.html\n",
      "https://www.skoob.com.br/mundo-das-horas-finais-609108ed609376.html\n",
      "https://www.skoob.com.br/passaro-louco-609110ed609378.html\n",
      "https://www.skoob.com.br/homens-elegantes-609113ed609381.html\n",
      "https://www.skoob.com.br/sociedade-da-rosa-614205ed614743.html\n",
      "https://www.skoob.com.br/as-aventuras-de-wonder-woman-na-super-hero-high-614385ed614930.html\n",
      "https://www.skoob.com.br/o-livro-das-coisas-estranhas-615701ed616285.html\n",
      "https://www.skoob.com.br/melhor-e-mais-rapido-617687ed618282.html\n",
      "https://www.skoob.com.br/vivienne-westwood-617703ed618298.html\n",
      "https://www.skoob.com.br/harry-potter-e-a-crianca-amaldicoada-brochura-601538ed618303.html\n",
      "https://www.skoob.com.br/uma-fada-veio-me-visitar-1511ed618800.html\n",
      "https://www.skoob.com.br/o-advogado-rebelde-621454ed622234.html\n",
      "https://www.skoob.com.br/rio-paris-rio-621456ed622236.html\n",
      "https://www.skoob.com.br/o-estranho-caso-do-sono-perdido-621458ed622238.html\n",
      "https://www.skoob.com.br/em-um-bosque-muito-escuro-621460ed622240.html\n",
      "https://www.skoob.com.br/animais-fantasticos-e-onde-habitam-623927ed624816.html\n",
      "https://www.skoob.com.br/animais-fantasticos-e-onde-habitam-623935ed624824.html\n",
      "https://www.skoob.com.br/todos-os-contos-578277ed1058308.html\n",
      "https://www.skoob.com.br/o-livro-da-vida-379429ed428980.html\n",
      "https://www.skoob.com.br/hotelles-428156ed484931.html\n",
      "https://www.skoob.com.br/reze-pelas-mulheres-roubadas-431010ed488272.html\n",
      "https://www.skoob.com.br/cem-veroes-431011ed488273.html\n",
      "https://www.skoob.com.br/uma-colher-de-terra-e-mar-431012ed488274.html\n",
      "https://www.skoob.com.br/dancando-com-o-inimigo-431013ed488275.html\n",
      "https://www.skoob.com.br/pura-dinamite-431014ed488276.html\n",
      "https://www.skoob.com.br/a-arte-de-mentir-431016ed488278.html\n",
      "https://www.skoob.com.br/o-livro-bonito-431017ed488279.html\n",
      "https://www.skoob.com.br/as-ultimas-cartas-de-jacopo-ortis-431018ed488280.html\n",
      "https://www.skoob.com.br/batalhas-nas-ruas-431021ed488283.html\n",
      "https://www.skoob.com.br/os-segredos-de-ali-431023ed488285.html\n",
      "https://www.skoob.com.br/veu-da-morte-431026ed488288.html\n",
      "https://www.skoob.com.br/entrevista-com-o-vampiro-434308ed492058.html\n",
      "https://www.skoob.com.br/um-gosto-de-verao-434309ed492059.html\n",
      "https://www.skoob.com.br/a-historia-sagrada-434310ed492060.html\n",
      "https://www.skoob.com.br/um-ano-na-selva-434316ed492066.html\n",
      "https://www.skoob.com.br/fedegunda-434319ed492069.html\n",
      "https://www.skoob.com.br/mergulho-434321ed492071.html\n",
      "https://www.skoob.com.br/que-tipo-de-homem-escreve-uma-historia-de-amor-434324ed492074.html\n",
      "https://www.skoob.com.br/terminais-434326ed492076.html\n",
      "https://www.skoob.com.br/nuvens-de-ketchup-438734ed497124.html\n",
      "https://www.skoob.com.br/ian-a-musica-das-esferas-438735ed497125.html\n",
      "https://www.skoob.com.br/berlim-agora-438736ed497126.html\n",
      "https://www.skoob.com.br/rastros-na-neblina-438737ed497127.html\n",
      "https://www.skoob.com.br/a-estrela-438738ed497128.html\n",
      "https://www.skoob.com.br/a-panqueca-fugitiva-o-resmungao-e-outros-contos-nordicos-438739ed497130.html\n",
      "https://www.skoob.com.br/os-monstros-mais-medrosos-do-mundo-438741ed497132.html\n",
      "https://www.skoob.com.br/timmy-fiasco-439061ed497508.html\n",
      "https://www.skoob.com.br/sete-anos-bons-442639ed501552.html\n",
      "https://www.skoob.com.br/o-jogo-de-sade-442642ed501555.html\n",
      "https://www.skoob.com.br/brasileirismos-442644ed501557.html\n",
      "https://www.skoob.com.br/desperdicando-rima-442647ed501560.html\n",
      "https://www.skoob.com.br/arrasadoras-442654ed501567.html\n",
      "https://www.skoob.com.br/a-porta-dos-tres-trincos-442655ed501568.html\n"
     ]
    }
   ],
   "source": [
    "for link in lista_links:\n",
    "    urll = url.format(link=link)\n",
    "    print(urll)\n",
    "    response = rq.get(urll)\n",
    "\n",
    "    with open(\"./skoob/video_{}\".format(link[1:]), \"w+\") as output:\n",
    "        output.write(response.text)\n",
    "\n",
    "    time.sleep(2)"
   ]
  },
  {
   "cell_type": "code",
   "execution_count": null,
   "metadata": {},
   "outputs": [],
   "source": []
  }
 ]
}